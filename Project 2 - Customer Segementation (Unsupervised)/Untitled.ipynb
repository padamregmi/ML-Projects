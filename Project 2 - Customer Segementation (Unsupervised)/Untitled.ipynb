{
 "cells": [
  {
   "cell_type": "markdown",
   "id": "15cf75a9",
   "metadata": {},
   "source": [
    "# About Dataset"
   ]
  },
  {
   "cell_type": "markdown",
   "id": "af5cf8b4",
   "metadata": {},
   "source": [
    "The dataset is a customer dataset of a mall in which the maill collectes its customers data using the custiomers subscription information such as gender, age, annual income and sepending score(between 1-100).\n",
    "Spending score is provided to the customer based on their spendind data and customer behaviour.\n",
    "Based on the givenn attributes we are going to cluster the dataset using KMeans Clustering.\n",
    "\n",
    "Problem Statement\n",
    "Using the data set , we have to cluster the customers in such a way that every different category of customers could be identified so, that the marketing team could design marketing strategy based on the clusters."
   ]
  },
  {
   "cell_type": "code",
   "execution_count": 1,
   "id": "427c2496",
   "metadata": {},
   "outputs": [],
   "source": [
    "import pandas as pd\n",
    "import numpy as np\n",
    "import matplotlib.pyplot as plt\n",
    "%matplotlib inline\n",
    "\n",
    "import seaborn as sns"
   ]
  },
  {
   "cell_type": "code",
   "execution_count": 2,
   "id": "721c408a",
   "metadata": {},
   "outputs": [
    {
     "data": {
      "text/html": [
       "<div>\n",
       "<style scoped>\n",
       "    .dataframe tbody tr th:only-of-type {\n",
       "        vertical-align: middle;\n",
       "    }\n",
       "\n",
       "    .dataframe tbody tr th {\n",
       "        vertical-align: top;\n",
       "    }\n",
       "\n",
       "    .dataframe thead th {\n",
       "        text-align: right;\n",
       "    }\n",
       "</style>\n",
       "<table border=\"1\" class=\"dataframe\">\n",
       "  <thead>\n",
       "    <tr style=\"text-align: right;\">\n",
       "      <th></th>\n",
       "      <th>CustomerID</th>\n",
       "      <th>Gender</th>\n",
       "      <th>Age</th>\n",
       "      <th>Annual Income (k$)</th>\n",
       "      <th>Spending Score (1-100)</th>\n",
       "    </tr>\n",
       "  </thead>\n",
       "  <tbody>\n",
       "    <tr>\n",
       "      <th>0</th>\n",
       "      <td>1</td>\n",
       "      <td>Male</td>\n",
       "      <td>19</td>\n",
       "      <td>15</td>\n",
       "      <td>39</td>\n",
       "    </tr>\n",
       "    <tr>\n",
       "      <th>1</th>\n",
       "      <td>2</td>\n",
       "      <td>Male</td>\n",
       "      <td>21</td>\n",
       "      <td>15</td>\n",
       "      <td>81</td>\n",
       "    </tr>\n",
       "    <tr>\n",
       "      <th>2</th>\n",
       "      <td>3</td>\n",
       "      <td>Female</td>\n",
       "      <td>20</td>\n",
       "      <td>16</td>\n",
       "      <td>6</td>\n",
       "    </tr>\n",
       "    <tr>\n",
       "      <th>3</th>\n",
       "      <td>4</td>\n",
       "      <td>Female</td>\n",
       "      <td>23</td>\n",
       "      <td>16</td>\n",
       "      <td>77</td>\n",
       "    </tr>\n",
       "    <tr>\n",
       "      <th>4</th>\n",
       "      <td>5</td>\n",
       "      <td>Female</td>\n",
       "      <td>31</td>\n",
       "      <td>17</td>\n",
       "      <td>40</td>\n",
       "    </tr>\n",
       "  </tbody>\n",
       "</table>\n",
       "</div>"
      ],
      "text/plain": [
       "   CustomerID  Gender  Age  Annual Income (k$)  Spending Score (1-100)\n",
       "0           1    Male   19                  15                      39\n",
       "1           2    Male   21                  15                      81\n",
       "2           3  Female   20                  16                       6\n",
       "3           4  Female   23                  16                      77\n",
       "4           5  Female   31                  17                      40"
      ]
     },
     "execution_count": 2,
     "metadata": {},
     "output_type": "execute_result"
    }
   ],
   "source": [
    "df = pd.read_csv('Mall_Customers.csv')\n",
    "df.head()"
   ]
  },
  {
   "cell_type": "code",
   "execution_count": 3,
   "id": "48e550ce",
   "metadata": {},
   "outputs": [
    {
     "name": "stdout",
     "output_type": "stream",
     "text": [
      "<class 'pandas.core.frame.DataFrame'>\n",
      "RangeIndex: 200 entries, 0 to 199\n",
      "Data columns (total 5 columns):\n",
      " #   Column                  Non-Null Count  Dtype \n",
      "---  ------                  --------------  ----- \n",
      " 0   CustomerID              200 non-null    int64 \n",
      " 1   Gender                  200 non-null    object\n",
      " 2   Age                     200 non-null    int64 \n",
      " 3   Annual Income (k$)      200 non-null    int64 \n",
      " 4   Spending Score (1-100)  200 non-null    int64 \n",
      "dtypes: int64(4), object(1)\n",
      "memory usage: 7.9+ KB\n"
     ]
    }
   ],
   "source": [
    "df.info()"
   ]
  },
  {
   "cell_type": "code",
   "execution_count": 4,
   "id": "60cbea50",
   "metadata": {},
   "outputs": [
    {
     "data": {
      "text/html": [
       "<div>\n",
       "<style scoped>\n",
       "    .dataframe tbody tr th:only-of-type {\n",
       "        vertical-align: middle;\n",
       "    }\n",
       "\n",
       "    .dataframe tbody tr th {\n",
       "        vertical-align: top;\n",
       "    }\n",
       "\n",
       "    .dataframe thead th {\n",
       "        text-align: right;\n",
       "    }\n",
       "</style>\n",
       "<table border=\"1\" class=\"dataframe\">\n",
       "  <thead>\n",
       "    <tr style=\"text-align: right;\">\n",
       "      <th></th>\n",
       "      <th>CustomerID</th>\n",
       "      <th>Age</th>\n",
       "      <th>Annual Income (k$)</th>\n",
       "      <th>Spending Score (1-100)</th>\n",
       "    </tr>\n",
       "  </thead>\n",
       "  <tbody>\n",
       "    <tr>\n",
       "      <th>count</th>\n",
       "      <td>200.000000</td>\n",
       "      <td>200.000000</td>\n",
       "      <td>200.000000</td>\n",
       "      <td>200.000000</td>\n",
       "    </tr>\n",
       "    <tr>\n",
       "      <th>mean</th>\n",
       "      <td>100.500000</td>\n",
       "      <td>38.850000</td>\n",
       "      <td>60.560000</td>\n",
       "      <td>50.200000</td>\n",
       "    </tr>\n",
       "    <tr>\n",
       "      <th>std</th>\n",
       "      <td>57.879185</td>\n",
       "      <td>13.969007</td>\n",
       "      <td>26.264721</td>\n",
       "      <td>25.823522</td>\n",
       "    </tr>\n",
       "    <tr>\n",
       "      <th>min</th>\n",
       "      <td>1.000000</td>\n",
       "      <td>18.000000</td>\n",
       "      <td>15.000000</td>\n",
       "      <td>1.000000</td>\n",
       "    </tr>\n",
       "    <tr>\n",
       "      <th>25%</th>\n",
       "      <td>50.750000</td>\n",
       "      <td>28.750000</td>\n",
       "      <td>41.500000</td>\n",
       "      <td>34.750000</td>\n",
       "    </tr>\n",
       "    <tr>\n",
       "      <th>50%</th>\n",
       "      <td>100.500000</td>\n",
       "      <td>36.000000</td>\n",
       "      <td>61.500000</td>\n",
       "      <td>50.000000</td>\n",
       "    </tr>\n",
       "    <tr>\n",
       "      <th>75%</th>\n",
       "      <td>150.250000</td>\n",
       "      <td>49.000000</td>\n",
       "      <td>78.000000</td>\n",
       "      <td>73.000000</td>\n",
       "    </tr>\n",
       "    <tr>\n",
       "      <th>max</th>\n",
       "      <td>200.000000</td>\n",
       "      <td>70.000000</td>\n",
       "      <td>137.000000</td>\n",
       "      <td>99.000000</td>\n",
       "    </tr>\n",
       "  </tbody>\n",
       "</table>\n",
       "</div>"
      ],
      "text/plain": [
       "       CustomerID         Age  Annual Income (k$)  Spending Score (1-100)\n",
       "count  200.000000  200.000000          200.000000              200.000000\n",
       "mean   100.500000   38.850000           60.560000               50.200000\n",
       "std     57.879185   13.969007           26.264721               25.823522\n",
       "min      1.000000   18.000000           15.000000                1.000000\n",
       "25%     50.750000   28.750000           41.500000               34.750000\n",
       "50%    100.500000   36.000000           61.500000               50.000000\n",
       "75%    150.250000   49.000000           78.000000               73.000000\n",
       "max    200.000000   70.000000          137.000000               99.000000"
      ]
     },
     "execution_count": 4,
     "metadata": {},
     "output_type": "execute_result"
    }
   ],
   "source": [
    "df.describe()"
   ]
  },
  {
   "cell_type": "markdown",
   "id": "f5f79150",
   "metadata": {},
   "source": [
    "# Exploratory Data Analysis:"
   ]
  },
  {
   "cell_type": "markdown",
   "id": "4e7dbd1b",
   "metadata": {},
   "source": [
    "Here, cusotmer ID is not a important features. SO, we would do EDA for other three columns.\n"
   ]
  },
  {
   "cell_type": "code",
   "execution_count": 5,
   "id": "679e5d98",
   "metadata": {},
   "outputs": [],
   "source": [
    "#box plot to see the age and annual income statistics"
   ]
  },
  {
   "cell_type": "code",
   "execution_count": 6,
   "id": "be4b2025",
   "metadata": {},
   "outputs": [
    {
     "data": {
      "text/plain": [
       "<AxesSubplot:xlabel='Age'>"
      ]
     },
     "execution_count": 6,
     "metadata": {},
     "output_type": "execute_result"
    },
    {
     "data": {
      "image/png": "[encoded data removed]",
      "text/plain": [
       "<Figure size 864x576 with 1 Axes>"
      ]
     },
     "metadata": {
      "needs_background": "light"
     },
     "output_type": "display_data"
    }
   ],
   "source": [
    "plt.figure(figsize=(12,8))\n",
    "sns.boxplot(x=df['Age'])"
   ]
  },
  {
   "cell_type": "code",
   "execution_count": 7,
   "id": "d85b09ff",
   "metadata": {},
   "outputs": [
    {
     "data": {
      "text/plain": [
       "<AxesSubplot:xlabel='Annual Income (k$)'>"
      ]
     },
     "execution_count": 7,
     "metadata": {},
     "output_type": "execute_result"
    },
    {
     "data": {
      "image/png": "[encoded data removed]",
      "text/plain": [
       "<Figure size 864x576 with 1 Axes>"
      ]
     },
     "metadata": {
      "needs_background": "light"
     },
     "output_type": "display_data"
    }
   ],
   "source": [
    "plt.figure(figsize=(12,8))\n",
    "sns.boxplot(x=df['Annual Income (k$)'])"
   ]
  },
  {
   "cell_type": "code",
   "execution_count": 8,
   "id": "74c6869e",
   "metadata": {},
   "outputs": [
    {
     "data": {
      "text/html": [
       "<div>\n",
       "<style scoped>\n",
       "    .dataframe tbody tr th:only-of-type {\n",
       "        vertical-align: middle;\n",
       "    }\n",
       "\n",
       "    .dataframe tbody tr th {\n",
       "        vertical-align: top;\n",
       "    }\n",
       "\n",
       "    .dataframe thead th {\n",
       "        text-align: right;\n",
       "    }\n",
       "</style>\n",
       "<table border=\"1\" class=\"dataframe\">\n",
       "  <thead>\n",
       "    <tr style=\"text-align: right;\">\n",
       "      <th></th>\n",
       "      <th>CustomerID</th>\n",
       "      <th>Age</th>\n",
       "      <th>Annual Income (k$)</th>\n",
       "      <th>Spending Score (1-100)</th>\n",
       "    </tr>\n",
       "  </thead>\n",
       "  <tbody>\n",
       "    <tr>\n",
       "      <th>CustomerID</th>\n",
       "      <td>1.000000</td>\n",
       "      <td>-0.026763</td>\n",
       "      <td>0.977548</td>\n",
       "      <td>0.013835</td>\n",
       "    </tr>\n",
       "    <tr>\n",
       "      <th>Age</th>\n",
       "      <td>-0.026763</td>\n",
       "      <td>1.000000</td>\n",
       "      <td>-0.012398</td>\n",
       "      <td>-0.327227</td>\n",
       "    </tr>\n",
       "    <tr>\n",
       "      <th>Annual Income (k$)</th>\n",
       "      <td>0.977548</td>\n",
       "      <td>-0.012398</td>\n",
       "      <td>1.000000</td>\n",
       "      <td>0.009903</td>\n",
       "    </tr>\n",
       "    <tr>\n",
       "      <th>Spending Score (1-100)</th>\n",
       "      <td>0.013835</td>\n",
       "      <td>-0.327227</td>\n",
       "      <td>0.009903</td>\n",
       "      <td>1.000000</td>\n",
       "    </tr>\n",
       "  </tbody>\n",
       "</table>\n",
       "</div>"
      ],
      "text/plain": [
       "                        CustomerID       Age  Annual Income (k$)  \\\n",
       "CustomerID                1.000000 -0.026763            0.977548   \n",
       "Age                      -0.026763  1.000000           -0.012398   \n",
       "Annual Income (k$)        0.977548 -0.012398            1.000000   \n",
       "Spending Score (1-100)    0.013835 -0.327227            0.009903   \n",
       "\n",
       "                        Spending Score (1-100)  \n",
       "CustomerID                            0.013835  \n",
       "Age                                  -0.327227  \n",
       "Annual Income (k$)                    0.009903  \n",
       "Spending Score (1-100)                1.000000  "
      ]
     },
     "execution_count": 8,
     "metadata": {},
     "output_type": "execute_result"
    }
   ],
   "source": [
    "df.corr()"
   ]
  },
  {
   "cell_type": "code",
   "execution_count": 9,
   "id": "1af520b8",
   "metadata": {},
   "outputs": [],
   "source": [
    "#important libraries\n",
    "from sklearn.datasets import make_blobs\n",
    "from sklearn.cluster import KMeans\n",
    "from sklearn.metrics import silhouette_score #score for clustering performance\n",
    "from sklearn.preprocessing import StandardScaler\n",
    "from sklearn.decomposition import PCA\n",
    "from mpl_toolkits.mplot3d import Axes3D"
   ]
  },
  {
   "cell_type": "markdown",
   "id": "f3f8d926",
   "metadata": {},
   "source": [
    "# standarizing the features"
   ]
  },
  {
   "cell_type": "code",
   "execution_count": 10,
   "id": "63b2801b",
   "metadata": {},
   "outputs": [
    {
     "data": {
      "text/html": [
       "<div>\n",
       "<style scoped>\n",
       "    .dataframe tbody tr th:only-of-type {\n",
       "        vertical-align: middle;\n",
       "    }\n",
       "\n",
       "    .dataframe tbody tr th {\n",
       "        vertical-align: top;\n",
       "    }\n",
       "\n",
       "    .dataframe thead th {\n",
       "        text-align: right;\n",
       "    }\n",
       "</style>\n",
       "<table border=\"1\" class=\"dataframe\">\n",
       "  <thead>\n",
       "    <tr style=\"text-align: right;\">\n",
       "      <th></th>\n",
       "      <th>Annual Income (k$)</th>\n",
       "      <th>Age</th>\n",
       "      <th>Spending Score (1-100)</th>\n",
       "    </tr>\n",
       "  </thead>\n",
       "  <tbody>\n",
       "    <tr>\n",
       "      <th>0</th>\n",
       "      <td>-1.738999</td>\n",
       "      <td>-1.424569</td>\n",
       "      <td>-0.434801</td>\n",
       "    </tr>\n",
       "    <tr>\n",
       "      <th>1</th>\n",
       "      <td>-1.738999</td>\n",
       "      <td>-1.281035</td>\n",
       "      <td>1.195704</td>\n",
       "    </tr>\n",
       "    <tr>\n",
       "      <th>2</th>\n",
       "      <td>-1.700830</td>\n",
       "      <td>-1.352802</td>\n",
       "      <td>-1.715913</td>\n",
       "    </tr>\n",
       "    <tr>\n",
       "      <th>3</th>\n",
       "      <td>-1.700830</td>\n",
       "      <td>-1.137502</td>\n",
       "      <td>1.040418</td>\n",
       "    </tr>\n",
       "    <tr>\n",
       "      <th>4</th>\n",
       "      <td>-1.662660</td>\n",
       "      <td>-0.563369</td>\n",
       "      <td>-0.395980</td>\n",
       "    </tr>\n",
       "  </tbody>\n",
       "</table>\n",
       "</div>"
      ],
      "text/plain": [
       "   Annual Income (k$)       Age  Spending Score (1-100)\n",
       "0           -1.738999 -1.424569               -0.434801\n",
       "1           -1.738999 -1.281035                1.195704\n",
       "2           -1.700830 -1.352802               -1.715913\n",
       "3           -1.700830 -1.137502                1.040418\n",
       "4           -1.662660 -0.563369               -0.395980"
      ]
     },
     "execution_count": 10,
     "metadata": {},
     "output_type": "execute_result"
    }
   ],
   "source": [
    "col_names = ['Annual Income (k$)', 'Age', 'Spending Score (1-100)']\n",
    "features = df[col_names]\n",
    "scaler = StandardScaler().fit(features.values)\n",
    "features = scaler.transform(features.values)\n",
    "scaled_features = pd.DataFrame(features,columns=col_names)\n",
    "scaled_features.head()"
   ]
  },
  {
   "cell_type": "code",
   "execution_count": 11,
   "id": "0897ce19",
   "metadata": {},
   "outputs": [
    {
     "data": {
      "text/html": [
       "<div>\n",
       "<style scoped>\n",
       "    .dataframe tbody tr th:only-of-type {\n",
       "        vertical-align: middle;\n",
       "    }\n",
       "\n",
       "    .dataframe tbody tr th {\n",
       "        vertical-align: top;\n",
       "    }\n",
       "\n",
       "    .dataframe thead th {\n",
       "        text-align: right;\n",
       "    }\n",
       "</style>\n",
       "<table border=\"1\" class=\"dataframe\">\n",
       "  <thead>\n",
       "    <tr style=\"text-align: right;\">\n",
       "      <th></th>\n",
       "      <th>Annual Income (k$)</th>\n",
       "      <th>Age</th>\n",
       "      <th>Spending Score (1-100)</th>\n",
       "      <th>Gender</th>\n",
       "    </tr>\n",
       "  </thead>\n",
       "  <tbody>\n",
       "    <tr>\n",
       "      <th>0</th>\n",
       "      <td>-1.738999</td>\n",
       "      <td>-1.424569</td>\n",
       "      <td>-0.434801</td>\n",
       "      <td>Male</td>\n",
       "    </tr>\n",
       "    <tr>\n",
       "      <th>1</th>\n",
       "      <td>-1.738999</td>\n",
       "      <td>-1.281035</td>\n",
       "      <td>1.195704</td>\n",
       "      <td>Male</td>\n",
       "    </tr>\n",
       "    <tr>\n",
       "      <th>2</th>\n",
       "      <td>-1.700830</td>\n",
       "      <td>-1.352802</td>\n",
       "      <td>-1.715913</td>\n",
       "      <td>Female</td>\n",
       "    </tr>\n",
       "    <tr>\n",
       "      <th>3</th>\n",
       "      <td>-1.700830</td>\n",
       "      <td>-1.137502</td>\n",
       "      <td>1.040418</td>\n",
       "      <td>Female</td>\n",
       "    </tr>\n",
       "    <tr>\n",
       "      <th>4</th>\n",
       "      <td>-1.662660</td>\n",
       "      <td>-0.563369</td>\n",
       "      <td>-0.395980</td>\n",
       "      <td>Female</td>\n",
       "    </tr>\n",
       "    <tr>\n",
       "      <th>...</th>\n",
       "      <td>...</td>\n",
       "      <td>...</td>\n",
       "      <td>...</td>\n",
       "      <td>...</td>\n",
       "    </tr>\n",
       "    <tr>\n",
       "      <th>195</th>\n",
       "      <td>2.268791</td>\n",
       "      <td>-0.276302</td>\n",
       "      <td>1.118061</td>\n",
       "      <td>Female</td>\n",
       "    </tr>\n",
       "    <tr>\n",
       "      <th>196</th>\n",
       "      <td>2.497807</td>\n",
       "      <td>0.441365</td>\n",
       "      <td>-0.861839</td>\n",
       "      <td>Female</td>\n",
       "    </tr>\n",
       "    <tr>\n",
       "      <th>197</th>\n",
       "      <td>2.497807</td>\n",
       "      <td>-0.491602</td>\n",
       "      <td>0.923953</td>\n",
       "      <td>Male</td>\n",
       "    </tr>\n",
       "    <tr>\n",
       "      <th>198</th>\n",
       "      <td>2.917671</td>\n",
       "      <td>-0.491602</td>\n",
       "      <td>-1.250054</td>\n",
       "      <td>Male</td>\n",
       "    </tr>\n",
       "    <tr>\n",
       "      <th>199</th>\n",
       "      <td>2.917671</td>\n",
       "      <td>-0.635135</td>\n",
       "      <td>1.273347</td>\n",
       "      <td>Male</td>\n",
       "    </tr>\n",
       "  </tbody>\n",
       "</table>\n",
       "<p>200 rows × 4 columns</p>\n",
       "</div>"
      ],
      "text/plain": [
       "     Annual Income (k$)       Age  Spending Score (1-100)  Gender\n",
       "0             -1.738999 -1.424569               -0.434801    Male\n",
       "1             -1.738999 -1.281035                1.195704    Male\n",
       "2             -1.700830 -1.352802               -1.715913  Female\n",
       "3             -1.700830 -1.137502                1.040418  Female\n",
       "4             -1.662660 -0.563369               -0.395980  Female\n",
       "..                  ...       ...                     ...     ...\n",
       "195            2.268791 -0.276302                1.118061  Female\n",
       "196            2.497807  0.441365               -0.861839  Female\n",
       "197            2.497807 -0.491602                0.923953    Male\n",
       "198            2.917671 -0.491602               -1.250054    Male\n",
       "199            2.917671 -0.635135                1.273347    Male\n",
       "\n",
       "[200 rows x 4 columns]"
      ]
     },
     "execution_count": 11,
     "metadata": {},
     "output_type": "execute_result"
    }
   ],
   "source": [
    "gender = df['Gender']\n",
    "df2 = scaled_features.join(gender)\n",
    "df2"
   ]
  },
  {
   "cell_type": "code",
   "execution_count": 12,
   "id": "6a82b050",
   "metadata": {},
   "outputs": [
    {
     "data": {
      "text/html": [
       "<div>\n",
       "<style scoped>\n",
       "    .dataframe tbody tr th:only-of-type {\n",
       "        vertical-align: middle;\n",
       "    }\n",
       "\n",
       "    .dataframe tbody tr th {\n",
       "        vertical-align: top;\n",
       "    }\n",
       "\n",
       "    .dataframe thead th {\n",
       "        text-align: right;\n",
       "    }\n",
       "</style>\n",
       "<table border=\"1\" class=\"dataframe\">\n",
       "  <thead>\n",
       "    <tr style=\"text-align: right;\">\n",
       "      <th></th>\n",
       "      <th>Annual Income (k$)</th>\n",
       "      <th>Age</th>\n",
       "      <th>Spending Score (1-100)</th>\n",
       "      <th>Gender_Female</th>\n",
       "      <th>Gender_Male</th>\n",
       "    </tr>\n",
       "  </thead>\n",
       "  <tbody>\n",
       "    <tr>\n",
       "      <th>0</th>\n",
       "      <td>-1.738999</td>\n",
       "      <td>-1.424569</td>\n",
       "      <td>-0.434801</td>\n",
       "      <td>0</td>\n",
       "      <td>1</td>\n",
       "    </tr>\n",
       "    <tr>\n",
       "      <th>1</th>\n",
       "      <td>-1.738999</td>\n",
       "      <td>-1.281035</td>\n",
       "      <td>1.195704</td>\n",
       "      <td>0</td>\n",
       "      <td>1</td>\n",
       "    </tr>\n",
       "    <tr>\n",
       "      <th>2</th>\n",
       "      <td>-1.700830</td>\n",
       "      <td>-1.352802</td>\n",
       "      <td>-1.715913</td>\n",
       "      <td>1</td>\n",
       "      <td>0</td>\n",
       "    </tr>\n",
       "    <tr>\n",
       "      <th>3</th>\n",
       "      <td>-1.700830</td>\n",
       "      <td>-1.137502</td>\n",
       "      <td>1.040418</td>\n",
       "      <td>1</td>\n",
       "      <td>0</td>\n",
       "    </tr>\n",
       "    <tr>\n",
       "      <th>4</th>\n",
       "      <td>-1.662660</td>\n",
       "      <td>-0.563369</td>\n",
       "      <td>-0.395980</td>\n",
       "      <td>1</td>\n",
       "      <td>0</td>\n",
       "    </tr>\n",
       "  </tbody>\n",
       "</table>\n",
       "</div>"
      ],
      "text/plain": [
       "   Annual Income (k$)       Age  Spending Score (1-100)  Gender_Female  \\\n",
       "0           -1.738999 -1.424569               -0.434801              0   \n",
       "1           -1.738999 -1.281035                1.195704              0   \n",
       "2           -1.700830 -1.352802               -1.715913              1   \n",
       "3           -1.700830 -1.137502                1.040418              1   \n",
       "4           -1.662660 -0.563369               -0.395980              1   \n",
       "\n",
       "   Gender_Male  \n",
       "0            1  \n",
       "1            1  \n",
       "2            0  \n",
       "3            0  \n",
       "4            0  "
      ]
     },
     "execution_count": 12,
     "metadata": {},
     "output_type": "execute_result"
    }
   ],
   "source": [
    "#ONe hot encoding to convert the gender to numeric\n",
    "df2 = pd.get_dummies(df2, prefix=None, prefix_sep='_', dummy_na=False, columns=None, sparse=False, drop_first=False, dtype=None)\n",
    "df2.head()"
   ]
  },
  {
   "cell_type": "code",
   "execution_count": 13,
   "id": "406dd17c",
   "metadata": {},
   "outputs": [
    {
     "data": {
      "text/html": [
       "<div>\n",
       "<style scoped>\n",
       "    .dataframe tbody tr th:only-of-type {\n",
       "        vertical-align: middle;\n",
       "    }\n",
       "\n",
       "    .dataframe tbody tr th {\n",
       "        vertical-align: top;\n",
       "    }\n",
       "\n",
       "    .dataframe thead th {\n",
       "        text-align: right;\n",
       "    }\n",
       "</style>\n",
       "<table border=\"1\" class=\"dataframe\">\n",
       "  <thead>\n",
       "    <tr style=\"text-align: right;\">\n",
       "      <th></th>\n",
       "      <th>Annual Income (k$)</th>\n",
       "      <th>Age</th>\n",
       "      <th>Spending Score (1-100)</th>\n",
       "      <th>Gender_Female</th>\n",
       "    </tr>\n",
       "  </thead>\n",
       "  <tbody>\n",
       "    <tr>\n",
       "      <th>0</th>\n",
       "      <td>-1.738999</td>\n",
       "      <td>-1.424569</td>\n",
       "      <td>-0.434801</td>\n",
       "      <td>0</td>\n",
       "    </tr>\n",
       "    <tr>\n",
       "      <th>1</th>\n",
       "      <td>-1.738999</td>\n",
       "      <td>-1.281035</td>\n",
       "      <td>1.195704</td>\n",
       "      <td>0</td>\n",
       "    </tr>\n",
       "    <tr>\n",
       "      <th>2</th>\n",
       "      <td>-1.700830</td>\n",
       "      <td>-1.352802</td>\n",
       "      <td>-1.715913</td>\n",
       "      <td>1</td>\n",
       "    </tr>\n",
       "    <tr>\n",
       "      <th>3</th>\n",
       "      <td>-1.700830</td>\n",
       "      <td>-1.137502</td>\n",
       "      <td>1.040418</td>\n",
       "      <td>1</td>\n",
       "    </tr>\n",
       "    <tr>\n",
       "      <th>4</th>\n",
       "      <td>-1.662660</td>\n",
       "      <td>-0.563369</td>\n",
       "      <td>-0.395980</td>\n",
       "      <td>1</td>\n",
       "    </tr>\n",
       "  </tbody>\n",
       "</table>\n",
       "</div>"
      ],
      "text/plain": [
       "   Annual Income (k$)       Age  Spending Score (1-100)  Gender_Female\n",
       "0           -1.738999 -1.424569               -0.434801              0\n",
       "1           -1.738999 -1.281035                1.195704              0\n",
       "2           -1.700830 -1.352802               -1.715913              1\n",
       "3           -1.700830 -1.137502                1.040418              1\n",
       "4           -1.662660 -0.563369               -0.395980              1"
      ]
     },
     "execution_count": 13,
     "metadata": {},
     "output_type": "execute_result"
    }
   ],
   "source": [
    "df2 = df2.drop('Gender_Male',axis=1)\n",
    "df2.head()"
   ]
  },
  {
   "cell_type": "code",
   "execution_count": 14,
   "id": "6307c22a",
   "metadata": {},
   "outputs": [],
   "source": [
    "#It indicates that the 0 is male and 1 is Female"
   ]
  },
  {
   "cell_type": "markdown",
   "id": "3dabc5e7",
   "metadata": {},
   "source": [
    "# Building the clustering model"
   ]
  },
  {
   "cell_type": "code",
   "execution_count": 15,
   "id": "d1f6abb3",
   "metadata": {},
   "outputs": [
    {
     "name": "stderr",
     "output_type": "stream",
     "text": [
      "C:\\Users\\Padam\\anaconda3\\lib\\site-packages\\sklearn\\cluster\\_kmeans.py:792: FutureWarning: 'n_jobs' was deprecated in version 0.23 and will be removed in 1.0 (renaming of 0.25).\n",
      "  warnings.warn(\"'n_jobs' was deprecated in version 0.23 and will be\"\n",
      "C:\\Users\\Padam\\anaconda3\\lib\\site-packages\\sklearn\\cluster\\_kmeans.py:881: UserWarning: KMeans is known to have a memory leak on Windows with MKL, when there are less chunks than available threads. You can avoid it by setting the environment variable OMP_NUM_THREADS=1.\n",
      "  warnings.warn(\n",
      "C:\\Users\\Padam\\anaconda3\\lib\\site-packages\\sklearn\\cluster\\_kmeans.py:792: FutureWarning: 'n_jobs' was deprecated in version 0.23 and will be removed in 1.0 (renaming of 0.25).\n",
      "  warnings.warn(\"'n_jobs' was deprecated in version 0.23 and will be\"\n",
      "C:\\Users\\Padam\\anaconda3\\lib\\site-packages\\sklearn\\cluster\\_kmeans.py:792: FutureWarning: 'n_jobs' was deprecated in version 0.23 and will be removed in 1.0 (renaming of 0.25).\n",
      "  warnings.warn(\"'n_jobs' was deprecated in version 0.23 and will be\"\n",
      "C:\\Users\\Padam\\anaconda3\\lib\\site-packages\\sklearn\\cluster\\_kmeans.py:792: FutureWarning: 'n_jobs' was deprecated in version 0.23 and will be removed in 1.0 (renaming of 0.25).\n",
      "  warnings.warn(\"'n_jobs' was deprecated in version 0.23 and will be\"\n",
      "C:\\Users\\Padam\\anaconda3\\lib\\site-packages\\sklearn\\cluster\\_kmeans.py:792: FutureWarning: 'n_jobs' was deprecated in version 0.23 and will be removed in 1.0 (renaming of 0.25).\n",
      "  warnings.warn(\"'n_jobs' was deprecated in version 0.23 and will be\"\n",
      "C:\\Users\\Padam\\anaconda3\\lib\\site-packages\\sklearn\\cluster\\_kmeans.py:792: FutureWarning: 'n_jobs' was deprecated in version 0.23 and will be removed in 1.0 (renaming of 0.25).\n",
      "  warnings.warn(\"'n_jobs' was deprecated in version 0.23 and will be\"\n",
      "C:\\Users\\Padam\\anaconda3\\lib\\site-packages\\sklearn\\cluster\\_kmeans.py:792: FutureWarning: 'n_jobs' was deprecated in version 0.23 and will be removed in 1.0 (renaming of 0.25).\n",
      "  warnings.warn(\"'n_jobs' was deprecated in version 0.23 and will be\"\n",
      "C:\\Users\\Padam\\anaconda3\\lib\\site-packages\\sklearn\\cluster\\_kmeans.py:792: FutureWarning: 'n_jobs' was deprecated in version 0.23 and will be removed in 1.0 (renaming of 0.25).\n",
      "  warnings.warn(\"'n_jobs' was deprecated in version 0.23 and will be\"\n",
      "C:\\Users\\Padam\\anaconda3\\lib\\site-packages\\sklearn\\cluster\\_kmeans.py:792: FutureWarning: 'n_jobs' was deprecated in version 0.23 and will be removed in 1.0 (renaming of 0.25).\n",
      "  warnings.warn(\"'n_jobs' was deprecated in version 0.23 and will be\"\n"
     ]
    },
    {
     "data": {
      "text/plain": [
       "[649.2800000000002,\n",
       " 438.5224115567773,\n",
       " 344.40542886953494,\n",
       " 254.28290726083466,\n",
       " 216.78490151651044,\n",
       " 181.9514362434146,\n",
       " 165.43613548426075,\n",
       " 150.28096075469244,\n",
       " 139.5733744178152]"
      ]
     },
     "execution_count": 15,
     "metadata": {},
     "output_type": "execute_result"
    }
   ],
   "source": [
    "SSE=[]\n",
    "for k in range(1,10):\n",
    "    kmeans = KMeans(n_jobs = -1, n_clusters = k, init='k-means++')\n",
    "    kmeans.fit(df2)\n",
    "    SSE.append(kmeans.inertia_)\n",
    "SSE"
   ]
  },
  {
   "cell_type": "code",
   "execution_count": 16,
   "id": "2058af45",
   "metadata": {},
   "outputs": [
    {
     "data": {
      "text/plain": [
       "Text(0, 0.5, 'Inertia')"
      ]
     },
     "execution_count": 16,
     "metadata": {},
     "output_type": "execute_result"
    },
    {
     "data": {
      "image/png": "[encoded data removed]",
      "text/plain": [
       "<Figure size 864x432 with 1 Axes>"
      ]
     },
     "metadata": {
      "needs_background": "light"
     },
     "output_type": "display_data"
    }
   ],
   "source": [
    "#converting the result into dataframe and plotting them(ELBOW Method)\n",
    "fr = pd.DataFrame({'Cluster':range(1,10),'SSE':SSE})\n",
    "plt.figure(figsize=(12,6))\n",
    "plt.plot(fr['Cluster'], fr['SSE'], marker='o')\n",
    "plt.xlabel('Number of clusters')\n",
    "plt.ylabel('Inertia')"
   ]
  },
  {
   "cell_type": "code",
   "execution_count": 17,
   "id": "2226aa7d",
   "metadata": {},
   "outputs": [],
   "source": [
    "#It shows the optimal number of cluster is 4"
   ]
  },
  {
   "cell_type": "code",
   "execution_count": 18,
   "id": "4907aef0",
   "metadata": {},
   "outputs": [
    {
     "name": "stdout",
     "output_type": "stream",
     "text": [
      "0.35027020434653977\n"
     ]
    },
    {
     "name": "stderr",
     "output_type": "stream",
     "text": [
      "C:\\Users\\Padam\\anaconda3\\lib\\site-packages\\sklearn\\cluster\\_kmeans.py:792: FutureWarning: 'n_jobs' was deprecated in version 0.23 and will be removed in 1.0 (renaming of 0.25).\n",
      "  warnings.warn(\"'n_jobs' was deprecated in version 0.23 and will be\"\n"
     ]
    }
   ],
   "source": [
    "#Evaluating clustering performance,building model with 4 cluster and evaluating the silhouette score of the model\n",
    "\n",
    "kmeans = KMeans(n_jobs = -1, n_clusters = 4, init='k-means++')\n",
    "kmeans.fit(df2)\n",
    "\n",
    "# Now, print the silhouette score of this model\n",
    "\n",
    "print(silhouette_score(df2, kmeans.labels_, metric='euclidean'))"
   ]
  },
  {
   "cell_type": "code",
   "execution_count": 19,
   "id": "be8b9f47",
   "metadata": {},
   "outputs": [],
   "source": [
    "#the score is 0.35 but also its not bad model, we can further improve the score. BUt, lets see first how the cluster looks like"
   ]
  },
  {
   "cell_type": "code",
   "execution_count": 20,
   "id": "7a9526fe",
   "metadata": {},
   "outputs": [
    {
     "name": "stderr",
     "output_type": "stream",
     "text": [
      "C:\\Users\\Padam\\anaconda3\\lib\\site-packages\\sklearn\\cluster\\_kmeans.py:792: FutureWarning: 'n_jobs' was deprecated in version 0.23 and will be removed in 1.0 (renaming of 0.25).\n",
      "  warnings.warn(\"'n_jobs' was deprecated in version 0.23 and will be\"\n"
     ]
    },
    {
     "data": {
      "image/png": "[encoded data removed]",
      "text/plain": [
       "<Figure size 1296x720 with 1 Axes>"
      ]
     },
     "metadata": {
      "needs_background": "light"
     },
     "output_type": "display_data"
    }
   ],
   "source": [
    "clusters = kmeans.fit_predict(df2.iloc[:,1:])\n",
    "df2[\"label\"] = clusters\n",
    " \n",
    "fig = plt.figure(figsize=(18,10))\n",
    "ax = fig.add_subplot(111, projection='3d')\n",
    "ax.scatter(df2.Age[df2.label == 0], df2[\"Annual Income (k$)\"][df2.label == 0], df[\"Spending Score (1-100)\"][df2.label == 0], c='blue', s=60)\n",
    "\n",
    "ax.scatter(df2.Age[df2.label == 1], df2[\"Annual Income (k$)\"][df2.label == 1], df2[\"Spending Score (1-100)\"][df2.label == 1], c='red', s=60)\n",
    "ax.scatter(df2.Age[df2.label == 2], df2[\"Annual Income (k$)\"][df2.label == 2], df[\"Spending Score (1-100)\"][df2.label == 2], c='green', s=60)\n",
    "ax.scatter(df2.Age[df2.label == 3], df2[\"Annual Income (k$)\"][df2.label == 3], df2[\"Spending Score (1-100)\"][df2.label == 3], c='orange', s=60)\n",
    "\n",
    "ax.view_init(30, 185)\n",
    "plt.show()"
   ]
  },
  {
   "cell_type": "code",
   "execution_count": 21,
   "id": "20939222",
   "metadata": {},
   "outputs": [],
   "source": [
    "#the model is not separrating the clusters clearly so, lets do futher PCA analysis to obtain clear picture"
   ]
  },
  {
   "cell_type": "code",
   "execution_count": 22,
   "id": "56a4789d",
   "metadata": {},
   "outputs": [
    {
     "data": {
      "image/png": "[encoded data removed]",
      "text/plain": [
       "<Figure size 432x288 with 1 Axes>"
      ]
     },
     "metadata": {
      "needs_background": "light"
     },
     "output_type": "display_data"
    }
   ],
   "source": [
    "pca = PCA(n_components=4)\n",
    "principalComponents = pca.fit_transform(df2)\n",
    "\n",
    "features = ['PCA_1','PCA_2','PCA_3','PCA_4',]\n",
    "plt.bar(features, pca.explained_variance_ratio_, color='black')\n",
    "plt.xlabel('PCA features')\n",
    "plt.ylabel('variance %')\n",
    "plt.xticks(features)\n",
    "\n",
    "PCA_components = pd.DataFrame(principalComponents,columns=features)"
   ]
  },
  {
   "cell_type": "code",
   "execution_count": 23,
   "id": "97417e53",
   "metadata": {},
   "outputs": [
    {
     "data": {
      "text/html": [
       "<div>\n",
       "<style scoped>\n",
       "    .dataframe tbody tr th:only-of-type {\n",
       "        vertical-align: middle;\n",
       "    }\n",
       "\n",
       "    .dataframe tbody tr th {\n",
       "        vertical-align: top;\n",
       "    }\n",
       "\n",
       "    .dataframe thead th {\n",
       "        text-align: right;\n",
       "    }\n",
       "</style>\n",
       "<table border=\"1\" class=\"dataframe\">\n",
       "  <thead>\n",
       "    <tr style=\"text-align: right;\">\n",
       "      <th></th>\n",
       "      <th>PCA_1</th>\n",
       "      <th>PCA_2</th>\n",
       "      <th>PCA_3</th>\n",
       "      <th>PCA_4</th>\n",
       "    </tr>\n",
       "  </thead>\n",
       "  <tbody>\n",
       "    <tr>\n",
       "      <th>0</th>\n",
       "      <td>-1.943094</td>\n",
       "      <td>-0.245698</td>\n",
       "      <td>-1.873078</td>\n",
       "      <td>0.677865</td>\n",
       "    </tr>\n",
       "    <tr>\n",
       "      <th>1</th>\n",
       "      <td>0.172322</td>\n",
       "      <td>-1.716805</td>\n",
       "      <td>-1.755533</td>\n",
       "      <td>0.714807</td>\n",
       "    </tr>\n",
       "    <tr>\n",
       "      <th>2</th>\n",
       "      <td>-2.249187</td>\n",
       "      <td>0.779079</td>\n",
       "      <td>-1.901391</td>\n",
       "      <td>-0.302313</td>\n",
       "    </tr>\n",
       "    <tr>\n",
       "      <th>3</th>\n",
       "      <td>0.193232</td>\n",
       "      <td>-1.545308</td>\n",
       "      <td>-1.750629</td>\n",
       "      <td>-0.290419</td>\n",
       "    </tr>\n",
       "    <tr>\n",
       "      <th>4</th>\n",
       "      <td>-1.501049</td>\n",
       "      <td>0.194379</td>\n",
       "      <td>-1.773587</td>\n",
       "      <td>-0.387278</td>\n",
       "    </tr>\n",
       "  </tbody>\n",
       "</table>\n",
       "</div>"
      ],
      "text/plain": [
       "      PCA_1     PCA_2     PCA_3     PCA_4\n",
       "0 -1.943094 -0.245698 -1.873078  0.677865\n",
       "1  0.172322 -1.716805 -1.755533  0.714807\n",
       "2 -2.249187  0.779079 -1.901391 -0.302313\n",
       "3  0.193232 -1.545308 -1.750629 -0.290419\n",
       "4 -1.501049  0.194379 -1.773587 -0.387278"
      ]
     },
     "execution_count": 23,
     "metadata": {},
     "output_type": "execute_result"
    }
   ],
   "source": [
    "PCA_components.head()"
   ]
  },
  {
   "cell_type": "code",
   "execution_count": 24,
   "id": "1efb03df",
   "metadata": {},
   "outputs": [
    {
     "data": {
      "text/plain": [
       "array([0.38899991, 0.29484429, 0.22354381, 0.05464779])"
      ]
     },
     "execution_count": 24,
     "metadata": {},
     "output_type": "execute_result"
    }
   ],
   "source": [
    "pca.explained_variance_ratio_"
   ]
  },
  {
   "cell_type": "code",
   "execution_count": 25,
   "id": "9590e2f9",
   "metadata": {},
   "outputs": [],
   "source": [
    "# WE observe that the three components comprised almost 95% of the datasets so,lets build model using these 3 components\n"
   ]
  },
  {
   "cell_type": "code",
   "execution_count": 26,
   "id": "3ca6d960",
   "metadata": {},
   "outputs": [
    {
     "name": "stderr",
     "output_type": "stream",
     "text": [
      "C:\\Users\\Padam\\anaconda3\\lib\\site-packages\\sklearn\\cluster\\_kmeans.py:881: UserWarning: KMeans is known to have a memory leak on Windows with MKL, when there are less chunks than available threads. You can avoid it by setting the environment variable OMP_NUM_THREADS=1.\n",
      "  warnings.warn(\n"
     ]
    },
    {
     "data": {
      "image/png": "[encoded data removed]",
      "text/plain": [
       "<Figure size 432x288 with 1 Axes>"
      ]
     },
     "metadata": {
      "needs_background": "light"
     },
     "output_type": "display_data"
    }
   ],
   "source": [
    "ks = range(1, 10)\n",
    "inertias = []\n",
    "\n",
    "for k in ks:\n",
    "    model = KMeans(n_clusters=k)\n",
    "    model.fit(PCA_components.iloc[:,:2])\n",
    "    inertias.append(model.inertia_)\n",
    "\n",
    "plt.plot(ks, inertias, '-o', color='black')\n",
    "plt.xlabel('number of clusters, k')\n",
    "plt.ylabel('inertia')\n",
    "plt.xticks(ks)\n",
    "plt.show()"
   ]
  },
  {
   "cell_type": "code",
   "execution_count": 27,
   "id": "40021a0b",
   "metadata": {},
   "outputs": [
    {
     "name": "stdout",
     "output_type": "stream",
     "text": [
      "0.41644079660565786\n"
     ]
    }
   ],
   "source": [
    "model = KMeans(n_clusters=4)\n",
    "model.fit(PCA_components.iloc[:,:4])\n",
    "\n",
    "# silhouette score\n",
    "print(silhouette_score(PCA_components.iloc[:,:4], model.labels_, metric='euclidean'))"
   ]
  },
  {
   "cell_type": "code",
   "execution_count": 28,
   "id": "af66785b",
   "metadata": {},
   "outputs": [
    {
     "data": {
      "image/png": "[encoded data removed]",
      "text/plain": [
       "<Figure size 1512x720 with 1 Axes>"
      ]
     },
     "metadata": {
      "needs_background": "light"
     },
     "output_type": "display_data"
    }
   ],
   "source": [
    "model = KMeans(n_clusters=4)\n",
    "\n",
    "clusters = model.fit_predict(PCA_components.iloc[:,:4])\n",
    "df2[\"label\"] = clusters\n",
    " \n",
    "fig = plt.figure(figsize=(21,10))\n",
    "ax = fig.add_subplot(111, projection='3d')\n",
    "ax.scatter(df2.Age[df2.label == 0], df2[\"Annual Income (k$)\"][df2.label == 0], df2[\"Spending Score (1-100)\"][df2.label == 0], c='blue', s=60)\n",
    "ax.scatter(df2.Age[df2.label == 1], df2[\"Annual Income (k$)\"][df2.label == 1], df2[\"Spending Score (1-100)\"][df2.label == 1], c='red', s=60)\n",
    "ax.scatter(df2.Age[df2.label == 2], df2[\"Annual Income (k$)\"][df2.label == 2], df2[\"Spending Score (1-100)\"][df2.label == 2], c='green', s=60)\n",
    "\n",
    "ax.scatter(df2.Age[df2.label == 3], df2[\"Annual Income (k$)\"][df2.label == 3], df2[\"Spending Score (1-100)\"][df2.label == 3], c='orange', s=60)\n",
    "\n",
    "ax.view_init(30, 185)\n",
    "plt.show()"
   ]
  },
  {
   "cell_type": "code",
   "execution_count": 30,
   "id": "6fa6447d",
   "metadata": {},
   "outputs": [
    {
     "data": {
      "text/html": [
       "<div>\n",
       "<style scoped>\n",
       "    .dataframe tbody tr th:only-of-type {\n",
       "        vertical-align: middle;\n",
       "    }\n",
       "\n",
       "    .dataframe tbody tr th {\n",
       "        vertical-align: top;\n",
       "    }\n",
       "\n",
       "    .dataframe thead th {\n",
       "        text-align: right;\n",
       "    }\n",
       "</style>\n",
       "<table border=\"1\" class=\"dataframe\">\n",
       "  <thead>\n",
       "    <tr style=\"text-align: right;\">\n",
       "      <th></th>\n",
       "      <th>Gender</th>\n",
       "      <th>Age</th>\n",
       "      <th>Annual Income (k$)</th>\n",
       "      <th>Spending Score (1-100)</th>\n",
       "      <th>cluster</th>\n",
       "    </tr>\n",
       "  </thead>\n",
       "  <tbody>\n",
       "    <tr>\n",
       "      <th>0</th>\n",
       "      <td>Male</td>\n",
       "      <td>19</td>\n",
       "      <td>15</td>\n",
       "      <td>39</td>\n",
       "      <td>3</td>\n",
       "    </tr>\n",
       "    <tr>\n",
       "      <th>1</th>\n",
       "      <td>Male</td>\n",
       "      <td>21</td>\n",
       "      <td>15</td>\n",
       "      <td>81</td>\n",
       "      <td>1</td>\n",
       "    </tr>\n",
       "    <tr>\n",
       "      <th>2</th>\n",
       "      <td>Female</td>\n",
       "      <td>20</td>\n",
       "      <td>16</td>\n",
       "      <td>6</td>\n",
       "      <td>3</td>\n",
       "    </tr>\n",
       "    <tr>\n",
       "      <th>3</th>\n",
       "      <td>Female</td>\n",
       "      <td>23</td>\n",
       "      <td>16</td>\n",
       "      <td>77</td>\n",
       "      <td>1</td>\n",
       "    </tr>\n",
       "    <tr>\n",
       "      <th>4</th>\n",
       "      <td>Female</td>\n",
       "      <td>31</td>\n",
       "      <td>17</td>\n",
       "      <td>40</td>\n",
       "      <td>3</td>\n",
       "    </tr>\n",
       "  </tbody>\n",
       "</table>\n",
       "</div>"
      ],
      "text/plain": [
       "   Gender  Age  Annual Income (k$)  Spending Score (1-100)  cluster\n",
       "0    Male   19                  15                      39        3\n",
       "1    Male   21                  15                      81        1\n",
       "2  Female   20                  16                       6        3\n",
       "3  Female   23                  16                      77        1\n",
       "4  Female   31                  17                      40        3"
      ]
     },
     "execution_count": 30,
     "metadata": {},
     "output_type": "execute_result"
    }
   ],
   "source": [
    "df = pd.read_csv('Mall_Customers.csv')\n",
    "df = df.drop(['CustomerID'],axis=1)\n",
    "\n",
    "# map back clusters to dataframe\n",
    "\n",
    "pred = model.predict(PCA_components.iloc[:,:4])\n",
    "frame = pd.DataFrame(df)\n",
    "frame['cluster'] = pred\n",
    "frame.head()"
   ]
  },
  {
   "cell_type": "code",
   "execution_count": 32,
   "id": "a19dcdaf",
   "metadata": {},
   "outputs": [
    {
     "data": {
      "text/html": [
       "<div>\n",
       "<style scoped>\n",
       "    .dataframe tbody tr th:only-of-type {\n",
       "        vertical-align: middle;\n",
       "    }\n",
       "\n",
       "    .dataframe tbody tr th {\n",
       "        vertical-align: top;\n",
       "    }\n",
       "\n",
       "    .dataframe thead th {\n",
       "        text-align: right;\n",
       "    }\n",
       "</style>\n",
       "<table border=\"1\" class=\"dataframe\">\n",
       "  <thead>\n",
       "    <tr style=\"text-align: right;\">\n",
       "      <th></th>\n",
       "      <th>cluster</th>\n",
       "      <th>Age</th>\n",
       "      <th>Annual Income (k$)</th>\n",
       "      <th>Spending Score (1-100)</th>\n",
       "    </tr>\n",
       "  </thead>\n",
       "  <tbody>\n",
       "    <tr>\n",
       "      <th>0</th>\n",
       "      <td>0</td>\n",
       "      <td>46.976190</td>\n",
       "      <td>71.333333</td>\n",
       "      <td>17.404762</td>\n",
       "    </tr>\n",
       "    <tr>\n",
       "      <th>1</th>\n",
       "      <td>1</td>\n",
       "      <td>30.079365</td>\n",
       "      <td>63.841270</td>\n",
       "      <td>80.476190</td>\n",
       "    </tr>\n",
       "    <tr>\n",
       "      <th>2</th>\n",
       "      <td>2</td>\n",
       "      <td>56.333333</td>\n",
       "      <td>54.266667</td>\n",
       "      <td>49.066667</td>\n",
       "    </tr>\n",
       "    <tr>\n",
       "      <th>3</th>\n",
       "      <td>3</td>\n",
       "      <td>27.340000</td>\n",
       "      <td>53.040000</td>\n",
       "      <td>40.620000</td>\n",
       "    </tr>\n",
       "  </tbody>\n",
       "</table>\n",
       "</div>"
      ],
      "text/plain": [
       "   cluster        Age  Annual Income (k$)  Spending Score (1-100)\n",
       "0        0  46.976190           71.333333               17.404762\n",
       "1        1  30.079365           63.841270               80.476190\n",
       "2        2  56.333333           54.266667               49.066667\n",
       "3        3  27.340000           53.040000               40.620000"
      ]
     },
     "execution_count": 32,
     "metadata": {},
     "output_type": "execute_result"
    }
   ],
   "source": [
    "avg_df = df.groupby(['cluster'], as_index=False).mean()\n",
    "avg_df\n"
   ]
  },
  {
   "cell_type": "code",
   "execution_count": 33,
   "id": "2d49cdd8",
   "metadata": {},
   "outputs": [
    {
     "data": {
      "text/plain": [
       "<AxesSubplot:xlabel='cluster', ylabel='Annual Income (k$)'>"
      ]
     },
     "execution_count": 33,
     "metadata": {},
     "output_type": "execute_result"
    },
    {
     "data": {
      "image/png": "[encoded data removed]",
      "text/plain": [
       "<Figure size 432x288 with 1 Axes>"
      ]
     },
     "metadata": {
      "needs_background": "light"
     },
     "output_type": "display_data"
    }
   ],
   "source": [
    "sns.barplot(x='cluster',y='Annual Income (k$)',data=avg_df)"
   ]
  },
  {
   "cell_type": "code",
   "execution_count": 34,
   "id": "3b9efdbc",
   "metadata": {},
   "outputs": [
    {
     "data": {
      "text/plain": [
       "<AxesSubplot:xlabel='cluster', ylabel='Spending Score (1-100)'>"
      ]
     },
     "execution_count": 34,
     "metadata": {},
     "output_type": "execute_result"
    },
    {
     "data": {
      "image/png": "[encoded data removed]",
      "text/plain": [
       "<Figure size 432x288 with 1 Axes>"
      ]
     },
     "metadata": {
      "needs_background": "light"
     },
     "output_type": "display_data"
    }
   ],
   "source": [
    "sns.barplot(x='cluster',y='Spending Score (1-100)',data=avg_df)"
   ]
  },
  {
   "cell_type": "code",
   "execution_count": 35,
   "id": "40b01d78",
   "metadata": {},
   "outputs": [
    {
     "data": {
      "text/plain": [
       "<AxesSubplot:xlabel='cluster', ylabel='Age'>"
      ]
     },
     "execution_count": 35,
     "metadata": {},
     "output_type": "execute_result"
    },
    {
     "data": {
      "image/png": "[encoded data removed]",
      "text/plain": [
       "<Figure size 432x288 with 1 Axes>"
      ]
     },
     "metadata": {
      "needs_background": "light"
     },
     "output_type": "display_data"
    }
   ],
   "source": [
    "sns.barplot(x='cluster',y='Age',data=avg_df)"
   ]
  },
  {
   "cell_type": "code",
   "execution_count": 37,
   "id": "bc17364b",
   "metadata": {},
   "outputs": [
    {
     "data": {
      "text/html": [
       "<div>\n",
       "<style scoped>\n",
       "    .dataframe tbody tr th:only-of-type {\n",
       "        vertical-align: middle;\n",
       "    }\n",
       "\n",
       "    .dataframe tbody tr th {\n",
       "        vertical-align: top;\n",
       "    }\n",
       "\n",
       "    .dataframe thead th {\n",
       "        text-align: right;\n",
       "    }\n",
       "</style>\n",
       "<table border=\"1\" class=\"dataframe\">\n",
       "  <thead>\n",
       "    <tr style=\"text-align: right;\">\n",
       "      <th></th>\n",
       "      <th></th>\n",
       "      <th>Gender</th>\n",
       "    </tr>\n",
       "    <tr>\n",
       "      <th>cluster</th>\n",
       "      <th>Gender</th>\n",
       "      <th></th>\n",
       "    </tr>\n",
       "  </thead>\n",
       "  <tbody>\n",
       "    <tr>\n",
       "      <th rowspan=\"2\" valign=\"top\">0</th>\n",
       "      <th>Female</th>\n",
       "      <td>20</td>\n",
       "    </tr>\n",
       "    <tr>\n",
       "      <th>Male</th>\n",
       "      <td>22</td>\n",
       "    </tr>\n",
       "    <tr>\n",
       "      <th rowspan=\"2\" valign=\"top\">1</th>\n",
       "      <th>Female</th>\n",
       "      <td>35</td>\n",
       "    </tr>\n",
       "    <tr>\n",
       "      <th>Male</th>\n",
       "      <td>28</td>\n",
       "    </tr>\n",
       "    <tr>\n",
       "      <th rowspan=\"2\" valign=\"top\">2</th>\n",
       "      <th>Female</th>\n",
       "      <td>26</td>\n",
       "    </tr>\n",
       "    <tr>\n",
       "      <th>Male</th>\n",
       "      <td>19</td>\n",
       "    </tr>\n",
       "    <tr>\n",
       "      <th rowspan=\"2\" valign=\"top\">3</th>\n",
       "      <th>Female</th>\n",
       "      <td>31</td>\n",
       "    </tr>\n",
       "    <tr>\n",
       "      <th>Male</th>\n",
       "      <td>19</td>\n",
       "    </tr>\n",
       "  </tbody>\n",
       "</table>\n",
       "</div>"
      ],
      "text/plain": [
       "                Gender\n",
       "cluster Gender        \n",
       "0       Female      20\n",
       "        Male        22\n",
       "1       Female      35\n",
       "        Male        28\n",
       "2       Female      26\n",
       "        Male        19\n",
       "3       Female      31\n",
       "        Male        19"
      ]
     },
     "execution_count": 37,
     "metadata": {},
     "output_type": "execute_result"
    }
   ],
   "source": [
    "df3 = pd.DataFrame(df.groupby(['cluster','Gender'])['Gender'].count())\n",
    "df3"
   ]
  },
  {
   "cell_type": "markdown",
   "id": "514e56b0",
   "metadata": {},
   "source": [
    "Cluster 0:\n",
    "\n",
    "High average annual income, low spending.\n",
    "Mean age is around 40 and gender is predominantly male.\n",
    "\n",
    "Cluster 1:\n",
    "\n",
    "Low to mid average income, average spending capacity.\n",
    "Mean age is around 50 and gender is predominantly female.\n",
    "\n",
    "Cluster 2:\n",
    "\n",
    "Low average income, high spending score.\n",
    "Mean age is around 25 and gender is predominantly female.\n",
    "\n",
    "Cluster 3:\n",
    "\n",
    "High average income, high spending score.\n",
    "Mean age is around 30 and gender is predominantly female.\n",
    "It is important to note that calculating the median age would provide better insight on the distribution \n",
    "of age within each cluster.\n",
    "\n",
    "Also, females are more highly represented in the entire dataset, which is why most \n",
    "clusters contain a larger number of females than males. We can find the percentage of each \n",
    "gender relative to the numbers in the entire dataset to give us a better idea of gender distribution."
   ]
  },
  {
   "cell_type": "markdown",
   "id": "f6a3a321",
   "metadata": {},
   "source": [
    "Cluster 0: The frugal spender\n",
    "This persona comprises of middle aged individuals who are very careful with money.\n",
    "\n",
    "Despite having the highest average income compared to individuals in all other clusters, they spend the least.\n",
    "\n",
    "This might be because they have financial responsibilities — like saving up for their kid’s higher education.\n",
    "\n",
    "Recommendation: Promos, coupons, and discount codes will attract individuals in this segment due to their tendency to spend less.\n",
    "\n",
    "Cluster 1: Almost retired\n",
    "This segment comprises of an older group of people.\n",
    "\n",
    "They earn less and spend less, and are probably saving up for retirement.\n",
    "\n",
    "Recommendation: Marketing to these individuals can be done through Facebook, which appeals to an older demographic. Promote healthcare related products to people in this segment.\n",
    "\n",
    "Cluster 2: The careless buyer\n",
    "This segment is made up of a younger age group.\n",
    "\n",
    "Individuals in this segment are most likely first jobbers. They make the least amount of money compared to all other segments.\n",
    "\n",
    "However, they are very high spenders.\n",
    "\n",
    "These are enthusiastic young individuals who enjoy living a good lifestyle, and tend to spend above their means.\n",
    "\n",
    "Recommendation: Since these are young individuals who spend a lot, providing them with travel coupons or hotel discounts might be a good idea. Providing them with discounts off top clothing and makeup brands would also work well for this segment.\n",
    "\n",
    "Cluster 3: Highly affluent individuals\n",
    "This segment is made up of middle-aged individuals.\n",
    "\n",
    "These are individuals who have worked hard to build up a significant amount of wealth.\n",
    "\n",
    "They also spend large amounts of money to live a good lifestyle.\n",
    "\n",
    "These individuals have likely just started a family, and are leading baby or family-focused lifestyles. It is a good idea to promote baby or child related products to these individuals.\n",
    "\n",
    "Recommendation: Due to their large spending capacity and their demographic, these individuals are likely to be looking for properties to buy or invest in. They are also more likely than all other segments to take out housing loans and make serious financial commitments.\n",
    "\n",
    "Conclusion\n",
    "We have successfully built a K-Means clustering model for customer segmentation. We also explored cluster interpretation, and analyzed the behaviour of individuals in each cluster.\n",
    "\n",
    "Finally, we took a look at some business recommendations that could be provided based on the attributes of each individual in the cluster.\n",
    "\n",
    "You can use the analysis above as starter code for any clustering or segmentation project in the future."
   ]
  },
  {
   "cell_type": "code",
   "execution_count": null,
   "id": "fa4daa2d",
   "metadata": {},
   "outputs": [],
   "source": []
  },
  {
   "cell_type": "code",
   "execution_count": null,
   "id": "d41a5dde",
   "metadata": {},
   "outputs": [],
   "source": []
  },
  {
   "cell_type": "code",
   "execution_count": null,
   "id": "0998cb7b",
   "metadata": {},
   "outputs": [],
   "source": []
  },
  {
   "cell_type": "code",
   "execution_count": null,
   "id": "8c795174",
   "metadata": {},
   "outputs": [],
   "source": []
  },
  {
   "cell_type": "code",
   "execution_count": null,
   "id": "94e1bbea",
   "metadata": {},
   "outputs": [],
   "source": []
  },
  {
   "cell_type": "code",
   "execution_count": null,
   "id": "26a769e6",
   "metadata": {},
   "outputs": [],
   "source": []
  },
  {
   "cell_type": "code",
   "execution_count": null,
   "id": "5e22fe46",
   "metadata": {},
   "outputs": [],
   "source": []
  }
 ],
 "metadata": {
  "kernelspec": {
   "display_name": "Python 3 (ipykernel)",
   "language": "python",
   "name": "python3"
  },
  "language_info": {
   "codemirror_mode": {
    "name": "ipython",
    "version": 3
   },
   "file_extension": ".py",
   "mimetype": "text/x-python",
   "name": "python",
   "nbconvert_exporter": "python",
   "pygments_lexer": "ipython3",
   "version": "3.9.7"
  }
 },
 "nbformat": 4,
 "nbformat_minor": 5
}
